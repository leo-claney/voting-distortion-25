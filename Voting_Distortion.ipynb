{
  "cells": [
    {
      "attachments": {},
      "cell_type": "markdown",
      "metadata": {
        "colab_type": "text",
        "id": "view-in-github"
      },
      "source": [
        "<a href=\"https://colab.research.google.com/github/nguyetmle/voting-distortion/blob/main/Voting_Distortion.ipynb\" target=\"_parent\"><img src=\"https://colab.research.google.com/assets/colab-badge.svg\" alt=\"Open In Colab\"/></a>"
      ]
    },
    {
      "cell_type": "markdown",
      "metadata": {},
      "source": [
        "## Generation of Voting Profiles in Different Distributions and Dimensions\n",
        "Input: number of experiments, number of voters, number of candidates, dimension, distribution\n",
        "Output: Distortion value for each voting profile (written to output.txt file)"
      ]
    },
    {
      "cell_type": "code",
      "execution_count": 1,
      "metadata": {},
      "outputs": [],
      "source": [
        "from VoteRules3D import VoteResult3D\n",
        "import pandas as pd"
      ]
    },
    {
      "cell_type": "code",
      "execution_count": null,
      "metadata": {},
      "outputs": [],
      "source": [
        "def simulate(numTest,n,m, dimension, distribution,strategy,strat_percent):\n",
        "    dict = {\"n\":[], \"m\":[], \"Dimension\":[], \"Distribution\":[], \"Strategy\":[], \"PSV\":[], \"OPT\":[], \"Plurality\":[], \"Plurality Distortion\":[],\n",
        "    \"Copeland\":[], \"Copeland Distortion\":[], \"STV\":[], \"STV Distortion\":[],\n",
        "    \"Borda\":[], \"Borda Distortion\":[], \"STAR\":[], \"STAR Distortion\":[],\n",
        "    \"Plurality Veto\":[], \"Plurality Veto Distortion\":[]}\n",
        "\n",
        "    # dict = {\"n\":[], \"m\":[], \"Dimension\":[], \"Distribution\":[], \"OPT\":[], \"Plurality\":[], \"Plurality Distortion\":[],\n",
        "    # \"Copeland\":[], \"Copeland Distortion\":[],\n",
        "    # \"Borda\":[], \"Borda Distortion\":[]}\n",
        "    \n",
        "    for i in range(numTest):\n",
        "        test = VoteResult3D(n, m, dimension, distribution, strategy, strat_percent)\n",
        "        dict[\"n\"].append(n)\n",
        "        dict[\"m\"].append(m)\n",
        "        dict[\"Dimension\"].append(dimension)\n",
        "        dict[\"Distribution\"].append(test.distribution)\n",
        "        dict[\"Strategy\"].append(strategy)\n",
        "        dict[\"PSV\"].append(strat_percent)\n",
        "        dict[\"OPT\"].append(test.OPTcandidate)\n",
        "\n",
        "        #winners \n",
        "        plurality = test.plurality()\n",
        "        copeland = test.copeland(0.5)\n",
        "        stv = test.STV()\n",
        "        borda = test.borda()\n",
        "        star = test.STAR()\n",
        "        pluralityVeto = test.pluralityVeto()\n",
        "\n",
        "        dict[\"Plurality\"].append(plurality)\n",
        "        dict[\"Copeland\"].append(copeland)\n",
        "        dict[\"STV\"].append(stv)\n",
        "        dict[\"Borda\"].append(borda)\n",
        "        dict[\"STAR\"].append(star)\n",
        "        dict[\"Plurality Veto\"].append(pluralityVeto)\n",
        "\n",
        "        dict[\"Plurality Distortion\"].append(test.distortion(plurality))\n",
        "        dict[\"Copeland Distortion\"].append(test.distortion(copeland))\n",
        "        dict[\"STV Distortion\"].append(test.distortion(stv))\n",
        "        dict[\"Borda Distortion\"].append(test.distortion(borda))\n",
        "        dict[\"STAR Distortion\"].append(test.distortion(star))\n",
        "        dict[\"Plurality Veto Distortion\"].append(test.distortion(pluralityVeto))\n",
        "\n",
        "        \n",
        "    df = pd.DataFrame(dict)\n",
        "    df.to_csv('strategic_output1D.csv', mode=\"a\",header=None)\n",
        "\n",
        "# Now you have a DataFrame df with the results of your simulations\n"
      ]
    },
    {
      "cell_type": "code",
      "execution_count": null,
      "metadata": {},
      "outputs": [],
      "source": [
        "# dist = [\"normal\",\"uniform\", \"poisson\", \"bimodal\"]\n",
        "# marray = [5, 10, 30, 50, 75, 100]\n",
        "# narray = [5, 25, 50, 75, 100, 200]\n",
        "\n",
        "# for d in dist:\n",
        "#     for n in narray:\n",
        "#         for m in marray:\n",
        "#             simulate(500, n, m, \"1D\", d)\n",
        "\n",
        "dist = [\"normal\",\"bimodal\"]\n",
        "psv = [0, 0.1, 0.25, 0.5, 0.75, 1]\n",
        "strategies = [\"burial\", \"compromise\"]\n",
        "\n",
        "for strat in strategies:\n",
        "    for d in dist:\n",
        "        for p in psv:\n",
        "            simulate(50, 200, 15, \"1D\", d, strat, p)"
      ]
    }
  ],
  "metadata": {
    "colab": {
      "authorship_tag": "ABX9TyOSsh/toEue5+hmHTYoGw9+",
      "include_colab_link": true,
      "provenance": []
    },
    "kernelspec": {
      "display_name": "Python 3",
      "name": "python3"
    },
    "language_info": {
      "codemirror_mode": {
        "name": "ipython",
        "version": 3
      },
      "file_extension": ".py",
      "mimetype": "text/x-python",
      "name": "python",
      "nbconvert_exporter": "python",
      "pygments_lexer": "ipython3",
      "version": "3.12.0"
    }
  },
  "nbformat": 4,
  "nbformat_minor": 0
}
